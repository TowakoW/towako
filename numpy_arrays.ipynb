{
 "cells": [
  {
   "cell_type": "code",
   "execution_count": 1,
   "id": "f33823c6-2d82-4799-aa93-ba8ca177c8cd",
   "metadata": {},
   "outputs": [],
   "source": [
    "import numpy as np"
   ]
  },
  {
   "cell_type": "code",
   "execution_count": 3,
   "id": "885e8ca9-e506-4ed1-8c22-683d195f5a1c",
   "metadata": {},
   "outputs": [
    {
     "name": "stdout",
     "output_type": "stream",
     "text": [
      "hello\n"
     ]
    }
   ],
   "source": [
    "print('hello')"
   ]
  },
  {
   "cell_type": "code",
   "execution_count": 4,
   "id": "ba8f2210-bb98-4646-99ec-fbd4378edde7",
   "metadata": {},
   "outputs": [
    {
     "data": {
      "text/plain": [
       "2"
      ]
     },
     "execution_count": 4,
     "metadata": {},
     "output_type": "execute_result"
    }
   ],
   "source": [
    "1+1"
   ]
  },
  {
   "cell_type": "code",
   "execution_count": 5,
   "id": "c29087aa-1287-4ef4-8a5c-c191efcb96bb",
   "metadata": {},
   "outputs": [
    {
     "name": "stdout",
     "output_type": "stream",
     "text": [
      "[1, 2, 3]\n"
     ]
    }
   ],
   "source": [
    "numbers = [1,2,3]\n",
    "print(numbers)"
   ]
  },
  {
   "cell_type": "code",
   "execution_count": 6,
   "id": "ac967c3f-f19b-46eb-a9cf-864eead6b9ed",
   "metadata": {},
   "outputs": [
    {
     "name": "stdout",
     "output_type": "stream",
     "text": [
      "[2, 4, 6]\n"
     ]
    }
   ],
   "source": [
    "doubled = []\n",
    "for num in numbers:\n",
    "    doubled.append(num*2)\n",
    "print(doubled)"
   ]
  },
  {
   "cell_type": "code",
   "execution_count": 8,
   "id": "177daaf3-11a3-493b-9597-6ba8f15d372a",
   "metadata": {},
   "outputs": [
    {
     "name": "stdout",
     "output_type": "stream",
     "text": [
      "[1 2 3]\n"
     ]
    }
   ],
   "source": [
    "arr = np.array([1,2,3])\n",
    "print(arr)"
   ]
  },
  {
   "cell_type": "code",
   "execution_count": 12,
   "id": "55de5a0e-7d8a-4210-88fa-6ab81bd22597",
   "metadata": {},
   "outputs": [
    {
     "name": "stdout",
     "output_type": "stream",
     "text": [
      "[2 4 6]\n"
     ]
    }
   ],
   "source": [
    "# print(arr*2)\n",
    "arr_doubled = arr*2\n",
    "print(arr_doubled)"
   ]
  },
  {
   "cell_type": "code",
   "execution_count": 11,
   "id": "44748d70-10e0-48ae-9456-b4ce193ac1ac",
   "metadata": {},
   "outputs": [],
   "source": [
    "# why the square brackets?"
   ]
  },
  {
   "cell_type": "code",
   "execution_count": 13,
   "id": "0e700cee-8f70-4d05-8da7-81c82b6d2c55",
   "metadata": {},
   "outputs": [
    {
     "name": "stdout",
     "output_type": "stream",
     "text": [
      "<class 'numpy.ndarray'>\n"
     ]
    }
   ],
   "source": [
    "print(type(arr))"
   ]
  },
  {
   "cell_type": "code",
   "execution_count": 15,
   "id": "f3670426-aa1b-4c2d-88c6-dbebd2941702",
   "metadata": {},
   "outputs": [
    {
     "name": "stdout",
     "output_type": "stream",
     "text": [
      "[2, 6, 9, 12]\n",
      "[ 2  6  9 12]\n"
     ]
    }
   ],
   "source": [
    "my_list = [2,6,9,12]\n",
    "my_arr = np.array(my_list)\n",
    "print(my_list)\n",
    "print(my_arr)"
   ]
  },
  {
   "cell_type": "code",
   "execution_count": 18,
   "id": "63b1fd0a-6d9e-45d2-8baa-7d1a754ed1d4",
   "metadata": {},
   "outputs": [
    {
     "name": "stdout",
     "output_type": "stream",
     "text": [
      "32.3\n",
      "34.5\n",
      "13.1\n",
      "171.61\n"
     ]
    }
   ],
   "source": [
    "data = [44, 8, 32, 45, 37, 42, 47, 26, 31, 11]\n",
    "\n",
    "print(np.mean(data))\n",
    "print(np.median(data))\n",
    "print(np.std(data))\n",
    "print(np.var(data))"
   ]
  },
  {
   "cell_type": "code",
   "execution_count": 19,
   "id": "e3fefade-c9b4-4b0d-93d4-55d94d92e130",
   "metadata": {},
   "outputs": [
    {
     "name": "stdout",
     "output_type": "stream",
     "text": [
      "1\n"
     ]
    }
   ],
   "source": [
    "nested = [\n",
    "    [1,2,3],\n",
    "    [4,5,6],\n",
    "]\n",
    "print(nested[0][0])"
   ]
  },
  {
   "cell_type": "code",
   "execution_count": 20,
   "id": "63181bad-4064-4d1b-8a70-74f5f4df3f38",
   "metadata": {},
   "outputs": [
    {
     "name": "stdout",
     "output_type": "stream",
     "text": [
      "1\n"
     ]
    }
   ],
   "source": [
    "ndarray = np.array([\n",
    "    [1,2,3],\n",
    "    [4,5,6]\n",
    "])\n",
    "print(ndarray[0,0])"
   ]
  },
  {
   "cell_type": "code",
   "execution_count": null,
   "id": "f87ea13b-49a4-4d8b-b7b9-678591e64020",
   "metadata": {},
   "outputs": [],
   "source": []
  }
 ],
 "metadata": {
  "kernelspec": {
   "display_name": "Python [conda env:base] *",
   "language": "python",
   "name": "conda-base-py"
  },
  "language_info": {
   "codemirror_mode": {
    "name": "ipython",
    "version": 3
   },
   "file_extension": ".py",
   "mimetype": "text/x-python",
   "name": "python",
   "nbconvert_exporter": "python",
   "pygments_lexer": "ipython3",
   "version": "3.13.5"
  }
 },
 "nbformat": 4,
 "nbformat_minor": 5
}
