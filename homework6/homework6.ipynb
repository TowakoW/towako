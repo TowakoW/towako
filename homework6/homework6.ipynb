{
 "cells": [
  {
   "cell_type": "code",
   "execution_count": 1,
   "id": "7dc05743-9b3c-43a0-87d0-8176bd1ff1a3",
   "metadata": {},
   "outputs": [],
   "source": [
    "import numpy as np"
   ]
  },
  {
   "cell_type": "code",
   "execution_count": 5,
   "id": "34930053-4f86-4fb0-9b0e-0900fbc59716",
   "metadata": {},
   "outputs": [],
   "source": [
    "# 3.1 1D NumPy Arrays\n",
    "listy = [20,27,9,12,31,17,4,50,39,35]\n",
    "numplist = np.array(listy)"
   ]
  },
  {
   "cell_type": "code",
   "execution_count": 7,
   "id": "2b69dab1-cc82-4d59-bbb0-f96768cd7b79",
   "metadata": {},
   "outputs": [
    {
     "name": "stdout",
     "output_type": "stream",
     "text": [
      "[ 80 108  36  48 124  68  16 200 156 140]\n"
     ]
    }
   ],
   "source": [
    "print(numplist * 4)"
   ]
  },
  {
   "cell_type": "code",
   "execution_count": 12,
   "id": "38218c68-5967-4e21-b234-534d1410fd76",
   "metadata": {},
   "outputs": [
    {
     "name": "stdout",
     "output_type": "stream",
     "text": [
      "24.4\n"
     ]
    }
   ],
   "source": [
    "print(np.mean(numplist))"
   ]
  },
  {
   "cell_type": "code",
   "execution_count": 13,
   "id": "6ee1626a-1fa8-4d01-98bb-770a00b3c59c",
   "metadata": {},
   "outputs": [
    {
     "name": "stdout",
     "output_type": "stream",
     "text": [
      "23.5\n"
     ]
    }
   ],
   "source": [
    "print(np.median(numplist))"
   ]
  },
  {
   "cell_type": "code",
   "execution_count": 14,
   "id": "de20bb82-2278-4fbd-9493-2ca83b2a8637",
   "metadata": {},
   "outputs": [
    {
     "name": "stdout",
     "output_type": "stream",
     "text": [
      "13.828955130450023\n"
     ]
    }
   ],
   "source": [
    "print(np.std(numplist))"
   ]
  },
  {
   "cell_type": "code",
   "execution_count": 15,
   "id": "e46f77cb-db11-48de-9fa1-0a3c513fac82",
   "metadata": {},
   "outputs": [
    {
     "name": "stdout",
     "output_type": "stream",
     "text": [
      "6\n"
     ]
    }
   ],
   "source": [
    "print(np.argmin(numplist))"
   ]
  },
  {
   "cell_type": "code",
   "execution_count": 16,
   "id": "6c2d7527-165a-41e1-8d2c-8f5d49834e59",
   "metadata": {},
   "outputs": [
    {
     "name": "stdout",
     "output_type": "stream",
     "text": [
      "7\n"
     ]
    }
   ],
   "source": [
    "print(np.argmax(numplist))"
   ]
  },
  {
   "cell_type": "code",
   "execution_count": 17,
   "id": "c66f4d59-edd3-4d2e-851f-554e9b492d4b",
   "metadata": {},
   "outputs": [
    {
     "name": "stdout",
     "output_type": "stream",
     "text": [
      "4\n",
      "50\n"
     ]
    }
   ],
   "source": [
    "print(numplist[6])\n",
    "print(numplist[7])"
   ]
  },
  {
   "cell_type": "code",
   "execution_count": 18,
   "id": "dc2e66af-e51a-4cba-9aee-7cffc9e142d1",
   "metadata": {},
   "outputs": [
    {
     "name": "stdout",
     "output_type": "stream",
     "text": [
      "4\n",
      "50\n"
     ]
    }
   ],
   "source": [
    "print(np.min(numplist))\n",
    "print(np.max(numplist))"
   ]
  },
  {
   "cell_type": "code",
   "execution_count": 20,
   "id": "fdce5a08-4496-440b-a57d-6a3dee94b77a",
   "metadata": {},
   "outputs": [
    {
     "name": "stdout",
     "output_type": "stream",
     "text": [
      "[27 31 50 39 35]\n"
     ]
    }
   ],
   "source": [
    "newarr = numplist > 20\n",
    "print(numplist[newarr])"
   ]
  },
  {
   "cell_type": "code",
   "execution_count": 21,
   "id": "a6d8c06e-11b2-4170-9f1a-419d99c9e33e",
   "metadata": {},
   "outputs": [],
   "source": [
    "# 3.2 2D NumPy Arrays\n",
    "matrix = [\n",
    "    [5, 12, 17, 9],\n",
    "    [8, 21, 14, 3],\n",
    "    [6, 13, 19, 11]\n",
    "]"
   ]
  },
  {
   "cell_type": "code",
   "execution_count": 23,
   "id": "f324b2fd-84f0-401f-9bf6-c5565d83ec4f",
   "metadata": {},
   "outputs": [
    {
     "name": "stdout",
     "output_type": "stream",
     "text": [
      "(3, 4)\n"
     ]
    }
   ],
   "source": [
    "print(np.shape(matrix))\n",
    "#3 rows, 4 columns"
   ]
  },
  {
   "cell_type": "code",
   "execution_count": 31,
   "id": "eeb17dd2-54a6-4b24-b1c2-1541ce178311",
   "metadata": {},
   "outputs": [
    {
     "name": "stdout",
     "output_type": "stream",
     "text": [
      "[17, 14, 19]\n"
     ]
    }
   ],
   "source": [
    "print([row[2] for row in matrix])"
   ]
  },
  {
   "cell_type": "code",
   "execution_count": 32,
   "id": "1d687211-0914-4f49-9efe-0972ae749b71",
   "metadata": {},
   "outputs": [
    {
     "name": "stdout",
     "output_type": "stream",
     "text": [
      "[8, 21, 14, 3]\n"
     ]
    }
   ],
   "source": [
    "print(matrix[1])"
   ]
  },
  {
   "cell_type": "code",
   "execution_count": 35,
   "id": "55481b54-1608-4f68-9f8d-4bf3f506a82a",
   "metadata": {},
   "outputs": [
    {
     "name": "stdout",
     "output_type": "stream",
     "text": [
      "[[10, 24, 34, 18], [16, 42, 28, 6], [12, 26, 38, 22]]\n"
     ]
    }
   ],
   "source": [
    "newm = [[x * 2 for x in row]for row in matrix]\n",
    "print(newm)"
   ]
  },
  {
   "cell_type": "code",
   "execution_count": 40,
   "id": "1c6baaab-bb0a-4634-bac6-83ff6a8ef1e9",
   "metadata": {},
   "outputs": [
    {
     "name": "stdout",
     "output_type": "stream",
     "text": [
      "[[10.75], [11.5], [12.25]]\n"
     ]
    }
   ],
   "source": [
    "meanz = [[float(np.mean(row))] for row in matrix]\n",
    "print(meanz)"
   ]
  },
  {
   "cell_type": "code",
   "execution_count": 42,
   "id": "34b7bf50-a727-4a7c-9d0a-a0660c9bf86f",
   "metadata": {},
   "outputs": [
    {
     "name": "stdout",
     "output_type": "stream",
     "text": [
      "11.5\n"
     ]
    }
   ],
   "source": [
    "ovrmean = np.mean(matrix)\n",
    "print(ovrmean)"
   ]
  },
  {
   "cell_type": "code",
   "execution_count": 46,
   "id": "390b90f6-ef04-4bf4-b88a-d019d672ac4e",
   "metadata": {},
   "outputs": [
    {
     "name": "stdout",
     "output_type": "stream",
     "text": [
      "min =  5\n",
      "max = 17\n",
      "min =  3\n",
      "max = 21\n",
      "min =  6\n",
      "max = 19\n"
     ]
    }
   ],
   "source": [
    "for row in matrix:\n",
    "    print('min = ',min(row))\n",
    "    print('max =',max(row))"
   ]
  },
  {
   "cell_type": "code",
   "execution_count": 56,
   "id": "fc70c93b-213a-4618-95bc-717dbe112319",
   "metadata": {},
   "outputs": [
    {
     "name": "stdout",
     "output_type": "stream",
     "text": [
      "[ 5 12 17  9  8 21 14  3  6 13 19 11]\n"
     ]
    }
   ],
   "source": [
    "arm = np.array(matrix)\n",
    "flats = arm.flatten()\n",
    "print(flats)\n",
    "#compresses all nested rows into a single list"
   ]
  },
  {
   "cell_type": "code",
   "execution_count": 59,
   "id": "a71e742a-45d3-4a4f-8162-c2b47f113124",
   "metadata": {},
   "outputs": [
    {
     "name": "stdout",
     "output_type": "stream",
     "text": [
      "7\n",
      "5\n"
     ]
    }
   ],
   "source": [
    "flmin = print(np.argmin(flats))\n",
    "flmax = print(np.argmax(flats))"
   ]
  },
  {
   "cell_type": "code",
   "execution_count": 70,
   "id": "dfc7edc9-a72e-4414-a997-d5103d7779e3",
   "metadata": {},
   "outputs": [
    {
     "name": "stdout",
     "output_type": "stream",
     "text": [
      "(np.int64(1), np.int64(3))\n"
     ]
    }
   ],
   "source": [
    "print(np.unravel_index(7, arm.shape))"
   ]
  },
  {
   "cell_type": "code",
   "execution_count": 71,
   "id": "a0f86f75-d10d-4a90-89d9-9cc22d341e7f",
   "metadata": {},
   "outputs": [
    {
     "name": "stdout",
     "output_type": "stream",
     "text": [
      "[17 21 19]\n"
     ]
    }
   ],
   "source": [
    "matarr = arm > 15\n",
    "print(arm[matarr])"
   ]
  },
  {
   "cell_type": "code",
   "execution_count": 76,
   "id": "5dbeadf7-192c-4e70-bf57-97f88b9a4f1a",
   "metadata": {},
   "outputs": [
    {
     "name": "stdout",
     "output_type": "stream",
     "text": [
      "[[ 5  9 12 17]\n",
      " [ 3  8 14 21]\n",
      " [ 6 11 13 19]]\n"
     ]
    }
   ],
   "source": [
    "sorty = np.array([np.sort(row) for row in arm])\n",
    "print(sorty)"
   ]
  },
  {
   "cell_type": "code",
   "execution_count": 84,
   "id": "d4f85aeb-e77c-4ffd-bb27-5f08476d4f6d",
   "metadata": {},
   "outputs": [
    {
     "name": "stdout",
     "output_type": "stream",
     "text": [
      "[[ 2  3  5]\n",
      " [11 13 17]]\n"
     ]
    }
   ],
   "source": [
    "#4 Prime Star Systems\n",
    "star = np.array([\n",
    "    [2, 3, 5],\n",
    "    [14, 6, 8],\n",
    "    [11, 13, 17],\n",
    "    [7, 10, 13]\n",
    "])\n",
    "\n",
    "def prime(star):\n",
    "    for row in star:\n",
    "        if row < 2:\n",
    "            return False\n",
    "        if row == 2:\n",
    "            return True\n",
    "        if row % 2 == 0:\n",
    "            return False\n",
    "        for rows in range(3, int(row ** .5) + 1, 2):\n",
    "            if row % rows == 0:\n",
    "                return False\n",
    "            return True\n",
    "primes = np.array([j for j in star if prime(j)])\n",
    "print(primes)"
   ]
  },
  {
   "cell_type": "code",
   "execution_count": 122,
   "id": "2f6decba-e5c9-4d08-bba4-098cfb162cb2",
   "metadata": {},
   "outputs": [],
   "source": [
    "#5 Lets play checkers!\n",
    "#5.1\n",
    "ze = np.zeros((8, 8))"
   ]
  },
  {
   "cell_type": "code",
   "execution_count": 123,
   "id": "21d1e95b-c3a8-49c9-8a07-f040f5cedb09",
   "metadata": {},
   "outputs": [
    {
     "name": "stdout",
     "output_type": "stream",
     "text": [
      "[[1. 0. 1. 0. 1. 0. 1. 0.]\n",
      " [0. 0. 0. 0. 0. 0. 0. 0.]\n",
      " [1. 0. 1. 0. 1. 0. 1. 0.]\n",
      " [0. 0. 0. 0. 0. 0. 0. 0.]\n",
      " [1. 0. 1. 0. 1. 0. 1. 0.]\n",
      " [0. 0. 0. 0. 0. 0. 0. 0.]\n",
      " [1. 0. 1. 0. 1. 0. 1. 0.]\n",
      " [0. 0. 0. 0. 0. 0. 0. 0.]]\n",
      "[[1. 0. 1. 0. 1. 0. 1. 0.]\n",
      " [0. 1. 0. 1. 0. 1. 0. 1.]\n",
      " [1. 0. 1. 0. 1. 0. 1. 0.]\n",
      " [0. 1. 0. 1. 0. 1. 0. 1.]\n",
      " [1. 0. 1. 0. 1. 0. 1. 0.]\n",
      " [0. 1. 0. 1. 0. 1. 0. 1.]\n",
      " [1. 0. 1. 0. 1. 0. 1. 0.]\n",
      " [0. 1. 0. 1. 0. 1. 0. 1.]]\n"
     ]
    }
   ],
   "source": [
    "#5.2\n",
    "ze[::2, ::2] += 1\n",
    "print(ze)\n",
    "#5.3\n",
    "ze[1::2, 1::2] += 1\n",
    "print(ze)"
   ]
  },
  {
   "cell_type": "code",
   "execution_count": 108,
   "id": "bd85a173-cc86-40eb-98ac-93d94b55a5a2",
   "metadata": {},
   "outputs": [
    {
     "name": "stdout",
     "output_type": "stream",
     "text": [
      "[[0. 1. 0. 1. 0. 1. 0. 1.]\n",
      " [1. 0. 1. 0. 1. 0. 1. 0.]\n",
      " [0. 1. 0. 1. 0. 1. 0. 1.]\n",
      " [1. 0. 1. 0. 1. 0. 1. 0.]\n",
      " [0. 1. 0. 1. 0. 1. 0. 1.]\n",
      " [1. 0. 1. 0. 1. 0. 1. 0.]\n",
      " [0. 1. 0. 1. 0. 1. 0. 1.]\n",
      " [1. 0. 1. 0. 1. 0. 1. 0.]]\n"
     ]
    }
   ],
   "source": [
    "#5.4\n",
    "zeb = np.zeros((8,8))\n",
    "zeb[1::2, ::2] += 1\n",
    "zeb[::2, 1::2] += 1\n",
    "print(ze)"
   ]
  },
  {
   "cell_type": "code",
   "execution_count": 128,
   "id": "68496b10-d803-48e4-a2d5-8d695902a0c5",
   "metadata": {},
   "outputs": [
    {
     "name": "stdout",
     "output_type": "stream",
     "text": [
      "g   a   l   x   y\n"
     ]
    }
   ],
   "source": [
    "#6 the expanding universe\n",
    "def spaces(string, num):\n",
    "    space = ' ' * num\n",
    "    return space.join(string)\n",
    "\n",
    "print(spaces('galxy', 3))"
   ]
  },
  {
   "cell_type": "code",
   "execution_count": 130,
   "id": "2adf59c9-d68e-4cd8-a305-141cdd262277",
   "metadata": {},
   "outputs": [
    {
     "name": "stdout",
     "output_type": "stream",
     "text": [
      "[[1879  974  771 1747 1424]\n",
      " [1742  893 1928 1686 1492]\n",
      " [1642 1052 1993  974 1263]\n",
      " [1479 1265 1242 1714 1668]\n",
      " [1117 1275  985 1779 1494]]\n"
     ]
    }
   ],
   "source": [
    "#7 second brightest star\n",
    "np.random.seed(20)\n",
    "starts = np.random.randint(500, 2000, (5, 5))\n",
    "print(starts)"
   ]
  },
  {
   "cell_type": "code",
   "execution_count": 148,
   "id": "b3e2590b-3f8f-4f94-a86c-397a18120a0f",
   "metadata": {},
   "outputs": [
    {
     "name": "stdout",
     "output_type": "stream",
     "text": [
      "[1747, 1742, 1642, 1668, 1494]\n"
     ]
    }
   ],
   "source": [
    "def secondb(starts):\n",
    "    seconds = []\n",
    "    for row in range(starts.shape[0]):\n",
    "        ord = np.sort(starts[row])[::-1]\n",
    "        seconds.append(ord.item(1))\n",
    "    return seconds\n",
    "print(secondb(starts))"
   ]
  },
  {
   "cell_type": "code",
   "execution_count": null,
   "id": "053aaa18-97b5-4e2a-86e4-9e2a4f97483b",
   "metadata": {},
   "outputs": [],
   "source": []
  }
 ],
 "metadata": {
  "kernelspec": {
   "display_name": "Python 3 (ipykernel)",
   "language": "python",
   "name": "python3"
  },
  "language_info": {
   "codemirror_mode": {
    "name": "ipython",
    "version": 3
   },
   "file_extension": ".py",
   "mimetype": "text/x-python",
   "name": "python",
   "nbconvert_exporter": "python",
   "pygments_lexer": "ipython3",
   "version": "3.13.5"
  }
 },
 "nbformat": 4,
 "nbformat_minor": 5
}
