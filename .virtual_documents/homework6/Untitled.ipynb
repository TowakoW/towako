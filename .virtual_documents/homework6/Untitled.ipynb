import numpy as np


# 3.1 1D NumPy Arrays
listy = [20,27,9,12,31,17,4,50,39,35]
numplist = np.array(listy)


print(numplist * 4)


print(np.mean(numplist))


print(np.median(numplist))


print(np.std(numplist))


print(np.argmin(numplist))


print(np.argmax(numplist))


print(numplist[6])
print(numplist[7])


print(np.min(numplist))
print(np.max(numplist))


newarr = numplist > 20
print(numplist[newarr])


# 3.2 2D NumPy Arrays
matrix = [
    [5, 12, 17, 9],
    [8, 21, 14, 3],
    [6, 13, 19, 11]
]


print(np.shape(matrix))
#3 rows, 4 columns


print([row[2] for row in matrix])


print(matrix[1])


newm = [[x * 2 for x in row]for row in matrix]
print(newm)


meanz = [[float(np.mean(row))] for row in matrix]
print(meanz)


ovrmean = np.mean(matrix)
print(ovrmean)


for row in matrix:
    print('min = ',min(row))
    print('max =',max(row))


arm = np.array(matrix)
flats = arm.flatten()
print(flats)
#compresses all nested rows into a single list


flmin = print(np.argmin(flats))
flmax = print(np.argmax(flats))


print(np.unravel_index(7, arm.shape))


matarr = arm > 15
print(arm[matarr])


sorty = np.array([np.sort(row) for row in arm])
print(sorty)


#4 Prime Star Systems
star = np.array([
    [2, 3, 5],
    [14, 6, 8],
    [11, 13, 17],
    [7, 10, 13]
])

def prime(star):
    for row in star:
        if row < 2:
            return False
        if row == 2:
            return True
        if row % 2 == 0:
            return False
        for rows in range(3, int(row ** .5) + 1, 2):
            if row % rows == 0:
                return False
            return True
primes = np.array([j for j in star if prime(j)])
print(primes)


#5 Lets play checkers!
#5.1
ze = np.zeros((8, 8))


#5.2
ze[::2, ::2] += 1
print(ze)
#5.3
ze[1::2, 1::2] += 1
print(ze)


#5.4
zeb = np.zeros((8,8))
zeb[1::2, ::2] += 1
zeb[::2, 1::2] += 1
print(ze)


#6 the expanding universe
def spaces(string, num):
    space = ' ' * num
    return space.join(string)

print(spaces('galxy', 3))


#7 second brightest star
np.random.seed(20)
starts = np.random.randint(500, 2000, (5, 5))
print(starts)


def secondb(starts):
    for row in starts:
        row.sort()



